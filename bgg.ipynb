{
  "nbformat": 4,
  "nbformat_minor": 0,
  "metadata": {
    "colab": {
      "provenance": [],
      "authorship_tag": "ABX9TyP88Slqd6DED9cbuYpbPM3R",
      "include_colab_link": true
    },
    "kernelspec": {
      "name": "python3",
      "display_name": "Python 3"
    },
    "language_info": {
      "name": "python"
    }
  },
  "cells": [
    {
      "cell_type": "markdown",
      "metadata": {
        "id": "view-in-github",
        "colab_type": "text"
      },
      "source": [
        "<a href=\"https://colab.research.google.com/github/asuderes/Yildiz-Yazdirma/blob/main/bgg.ipynb\" target=\"_parent\"><img src=\"https://colab.research.google.com/assets/colab-badge.svg\" alt=\"Open In Colab\"/></a>"
      ]
    },
    {
      "cell_type": "code",
      "execution_count": 31,
      "metadata": {
        "id": "S2HMFFnzJBlL"
      },
      "outputs": [],
      "source": [
        "import cv2\n",
        "from google.colab.patches import cv2_imshow"
      ]
    },
    {
      "cell_type": "code",
      "source": [
        "img = cv2.imread(\"kku_logo.jpeg\")\n",
        "cv2_imshow(img)"
      ],
      "metadata": {
        "id": "y4DGZNnuRH8X"
      },
      "execution_count": null,
      "outputs": []
    },
    {
      "cell_type": "markdown",
      "source": [
        "#**BAYRAKLAR**"
      ],
      "metadata": {
        "id": "v7-ItG01od_F"
      }
    },
    {
      "cell_type": "code",
      "source": [
        "view=cv2.imread(\"kku_kampus.jpeg\",cv2.IMREAD_COLOR)\n",
        "cv2_imshow(view)"
      ],
      "metadata": {
        "id": "94vws60Cob8q"
      },
      "execution_count": null,
      "outputs": []
    },
    {
      "cell_type": "code",
      "source": [
        "view2=cv2.imread(\"kku_kampus.jpeg\",1)\n",
        "cv2_imshow(view2)"
      ],
      "metadata": {
        "id": "qZD2xnQupCct"
      },
      "execution_count": null,
      "outputs": []
    },
    {
      "cell_type": "code",
      "source": [
        "view3=cv2.imread(\"kku_kampus.jpeg\",cv2.IMREAD_GRAYSCALE)\n",
        "cv2_imshow(view3)"
      ],
      "metadata": {
        "id": "el8oVT6PpCvq"
      },
      "execution_count": null,
      "outputs": []
    },
    {
      "cell_type": "code",
      "source": [
        "view4=cv2.imread(\"kku_kampus.jpeg\",0)\n",
        "cv2_imshow(view4)    "
      ],
      "metadata": {
        "id": "SwhQ_aZQpDCz"
      },
      "execution_count": null,
      "outputs": []
    },
    {
      "cell_type": "code",
      "source": [
        "view5=cv2.imread(\"kku_kampus.jpeg\",cv2.IMREAD_UNCHANGED)\n",
        "cv2_imshow(view5)"
      ],
      "metadata": {
        "id": "kI0V4NCYpDZG"
      },
      "execution_count": null,
      "outputs": []
    },
    {
      "cell_type": "code",
      "source": [
        "view6=cv2.imread(\"kku_kampus.jpeg\", -1)\n",
        "cv2_imshow(view6)"
      ],
      "metadata": {
        "id": "SWhE4BvppDog"
      },
      "execution_count": null,
      "outputs": []
    },
    {
      "cell_type": "markdown",
      "source": [
        "#**GÖRÜNTÜ** **ÖZELLİKLERİ**"
      ],
      "metadata": {
        "id": "ZOwmrUP31pFr"
      }
    },
    {
      "cell_type": "code",
      "source": [
        "print(img.shape) #çıktısında 3 var çünkü görüntü 3 kanallı yani RGB (görüntümüzün çözünürlüğü böyle hesaplanıyor)"
      ],
      "metadata": {
        "id": "ZMrR-dlCwEAj"
      },
      "execution_count": null,
      "outputs": []
    },
    {
      "cell_type": "code",
      "source": [
        "print(view3.shape) #çıktısında 3 yok çünkü görüntü 3 kanallı değil yani RGB değil"
      ],
      "metadata": {
        "id": "A4elwEum1yNB"
      },
      "execution_count": null,
      "outputs": []
    },
    {
      "cell_type": "markdown",
      "source": [
        "Her bir pikselin içine hükmetme olayı;"
      ],
      "metadata": {
        "id": "I3gFkpvf2z5t"
      }
    },
    {
      "cell_type": "code",
      "source": [
        "print(\"50x50 Alanındaki Mavi Renk Değeri:\" +str(img.item(50,50,0)))  #3.kısımda 0 yazmamızın sebebi; 0=mavi demek "
      ],
      "metadata": {
        "id": "O6WrYIq826rX"
      },
      "execution_count": null,
      "outputs": []
    },
    {
      "cell_type": "code",
      "source": [
        "print(\"200x200 Alanındaki Yeşil Renk Değeri:\"+str(img.item(200,200,1)))  #3.kısımda 1 yazmamızın sebebi; 1=yeşil demek "
      ],
      "metadata": {
        "id": "lAQXWQoL3t19"
      },
      "execution_count": null,
      "outputs": []
    },
    {
      "cell_type": "code",
      "source": [
        "print(\"250x250 Alanındaki Kırımızı Renk Değeri:\" +str(img.item(250,250,2)))  #3.kısımda 2 yazmamızın sebebi; 2=kırmızı demek"
      ],
      "metadata": {
        "id": "YokzmYI-3uNE"
      },
      "execution_count": null,
      "outputs": []
    },
    {
      "cell_type": "markdown",
      "source": [
        "Bir pikselin bütün renk değerlerini gösterme işlemi"
      ],
      "metadata": {
        "id": "oOOSsAqf6-TY"
      }
    },
    {
      "cell_type": "code",
      "source": [
        "px=img[100,100] #100x100 lük alandaki çıktısında 1.değer maviyi 2.değer yeşili 3.değer ise kırmızıyı gösterir.Çünkü opencvde BGR\n",
        "print(px)"
      ],
      "metadata": {
        "id": "VVuNX3Ek4qem"
      },
      "execution_count": null,
      "outputs": []
    },
    {
      "cell_type": "code",
      "source": [
        "px=img[200,200] #200x200 lük alandaki çıktısında 1.değer maviyi 2.değer yeşili 3.değer ise kırmızıyı gösterir.Çünkü opencvde BGR\n",
        "print(px)"
      ],
      "metadata": {
        "id": "iUMY5IQx8Od7"
      },
      "execution_count": null,
      "outputs": []
    },
    {
      "cell_type": "code",
      "source": [
        "px=img[250,250] #250x250 lik alandaki çıktısında 1.değer maviyi 2.değer yeşili 3.değer ise kırmızıyı gösterir.Çünkü opencvde BGR\n",
        "print(px)"
      ],
      "metadata": {
        "id": "-e91T-Ai8Nxe"
      },
      "execution_count": null,
      "outputs": []
    },
    {
      "cell_type": "markdown",
      "source": [
        "Görüntünün her bir pikselini oluşturmak için göndermiş olduğumuz veri sayısı (satır sütün renk sayısı hesaba katılıyor)"
      ],
      "metadata": {
        "id": "mp1xhIsq97LC"
      }
    },
    {
      "cell_type": "code",
      "source": [
        "print(img.size)"
      ],
      "metadata": {
        "id": "aNhLT4Ca8i9j"
      },
      "execution_count": null,
      "outputs": []
    },
    {
      "cell_type": "code",
      "source": [
        "print(img.dtype) #8bitlik veri kullanılıyor"
      ],
      "metadata": {
        "id": "12H6JrCa-jGU"
      },
      "execution_count": null,
      "outputs": []
    },
    {
      "cell_type": "markdown",
      "source": [
        "#**GÖRÜNTÜ** **ÇERÇEVELEME** **İŞLEMİ**"
      ],
      "metadata": {
        "id": "NmX-tB8z_6u1"
      }
    },
    {
      "cell_type": "markdown",
      "source": [
        "**ÇERÇEVE OLUŞTURMA**"
      ],
      "metadata": {
        "id": "ROW7ZiEmUtED"
      }
    },
    {
      "cell_type": "code",
      "source": [
        "img= cv2.imread(\"kku_kampus.jpeg\")"
      ],
      "metadata": {
        "id": "IjaoOMAHCA_1"
      },
      "execution_count": 46,
      "outputs": []
    },
    {
      "cell_type": "markdown",
      "source": [
        "**yeşil çerçeve:**"
      ],
      "metadata": {
        "id": "RqA7CvMGGN4r"
      }
    },
    {
      "cell_type": "code",
      "source": [
        "border_color = [0,255,0] #burda mavi değeri 0 kırmızı değeri 0 yeşil değeri 255 dir.\n",
        "border=cv2.copyMakeBorder (img, 50,50,25,25, cv2.BORDER_CONSTANT , value=border_color) #sonda value değerini belirlememizin sebebi sabit bir rengin olmasıdır.\n",
        "cv2_imshow(border)  #yukarıdaki 1. 50 üstü 2. 50 altı ve 25 lerde yanları ifade eder."
      ],
      "metadata": {
        "id": "yqZQM5JLD_mO"
      },
      "execution_count": null,
      "outputs": []
    },
    {
      "cell_type": "markdown",
      "source": [
        "**kırmızı çerçeve:**"
      ],
      "metadata": {
        "id": "uevKdnxDGPxH"
      }
    },
    {
      "cell_type": "code",
      "source": [
        "border_color = [0,0,255] \n",
        "border=cv2.copyMakeBorder (img, 50,50,25,25, cv2.BORDER_CONSTANT , value=border_color) \n",
        "cv2_imshow(border) "
      ],
      "metadata": {
        "id": "kLkLbVM6F2gt"
      },
      "execution_count": null,
      "outputs": []
    },
    {
      "cell_type": "markdown",
      "source": [
        "**mavi çerçeve:**"
      ],
      "metadata": {
        "id": "9TwtqP_YGSo7"
      }
    },
    {
      "cell_type": "code",
      "source": [
        "border_color = [255,0,0] \n",
        "border=cv2.copyMakeBorder (img, 50,50,25,25, cv2.BORDER_CONSTANT , value=border_color) \n",
        "cv2_imshow(border) "
      ],
      "metadata": {
        "id": "erpByZQSGIwA"
      },
      "execution_count": null,
      "outputs": []
    },
    {
      "cell_type": "code",
      "source": [
        "border_color = [80,40,6] \n",
        "border=cv2.copyMakeBorder (img, 50,50,25,25, cv2.BORDER_CONSTANT , value=border_color) \n",
        "cv2_imshow(border) "
      ],
      "metadata": {
        "id": "Jbry_c04G17f"
      },
      "execution_count": null,
      "outputs": []
    },
    {
      "cell_type": "markdown",
      "source": [
        "**AYNA GÖRÜNTÜSÜ OLUŞTURMA**"
      ],
      "metadata": {
        "id": "KTCBp6qbJUas"
      }
    },
    {
      "cell_type": "code",
      "source": [
        "border2=cv2.copyMakeBorder(img,100,100,100,100, cv2.BORDER_REFLECT)\n",
        "cv2_imshow(border2)"
      ],
      "metadata": {
        "id": "61LDu_QIJil6"
      },
      "execution_count": null,
      "outputs": []
    },
    {
      "cell_type": "markdown",
      "source": [
        "**KENARLARDAN FIRÇA ÇEKİLMİŞ GÖRÜNTÜ OLUŞTURMA**\n",
        "\n"
      ],
      "metadata": {
        "id": "FzW9TGL0S1Iq"
      }
    },
    {
      "cell_type": "code",
      "source": [
        "campus=cv2.imread(\"kku_kampus.jpeg\")\n",
        "border3=cv2.copyMakeBorder (campus,50,50,50,50, cv2.BORDER_REPLICATE)\n",
        "cv2_imshow(border3)"
      ],
      "metadata": {
        "id": "kCmFjhPvTIfQ"
      },
      "execution_count": null,
      "outputs": []
    },
    {
      "cell_type": "markdown",
      "source": [
        "**KARŞILIKLI KENARLARI KIRPMA**"
      ],
      "metadata": {
        "id": "lCQL5lPOT-Va"
      }
    },
    {
      "cell_type": "code",
      "source": [
        "border4=cv2.copyMakeBorder(img,50,50,50,50, cv2.BORDER_WRAP)\n",
        "cv2_imshow(border4)"
      ],
      "metadata": {
        "id": "k5p3z_NuT-ta"
      },
      "execution_count": null,
      "outputs": []
    },
    {
      "cell_type": "markdown",
      "source": [
        "#**MatPlotLib KÜTÜPHANESİ**"
      ],
      "metadata": {
        "id": "wONKuKWUUx4T"
      }
    },
    {
      "cell_type": "code",
      "source": [
        "from matplotlib import pyplot as plt #bu kütüphane RGB çalışıyor\n",
        "RED=[255,0,0]\n",
        "img1 = cv2.imread('kku_kampus.jpeg')\n",
        "\n",
        "replicate = cv2.copyMakeBorder(img1,50,50,50,50,cv2.BORDER_REPLICATE)\n",
        "reflect = cv2.copyMakeBorder(img1,50,50,50,50,cv2.BORDER_REFLECT)\n",
        "wrap = cv2.copyMakeBorder(img1,50,50,50,50,cv2.BORDER_WRAP)\n",
        "constant = cv2.copyMakeBorder(img1,50,50,50,50,cv2.BORDER_CONSTANT, value=RED) \n",
        "\n",
        "#aşşağıdaki 231 şu anlama geliyor 2.satır 3.sütun 1.hücre\n",
        "#virgülden sonraki axis eksen anlamına geliyor grafik çizerken kullanılıyor\n",
        "#çerçeve renginin kırmızı gözükebilmesi için renk dönüştürme yaptırılması lazım o yüzden bgr2rgb yaptık sonra başlık attık\n",
        "plt.subplot(231),plt.axis(\"off\"),plt.imshow(cv2.cvtColor(img1, cv2.COLOR_BGR2RGB)),plt.title('ORIGINAL')\n",
        "plt.subplot(232),plt.axis(\"off\"),plt.imshow(replicate,'gray'),plt.title('REPLICATE')\n",
        "plt.subplot(233),plt.axis(\"off\"),plt.imshow(reflect,'gray'),plt.title('REFLECT')\n",
        "plt.subplot(234),plt.axis(\"off\"),plt.imshow(img1,'gray'),plt.title('ORIGINAL_GRAY')\n",
        "plt.subplot(235),plt.axis(\"off\"),plt.imshow(wrap,'gray'),plt.title('WRAP')\n",
        "plt.subplot(236),plt.axis(\"off\"),plt.imshow(constant,'gray'),plt.title('CONSTANT')\n",
        "plt.show()"
      ],
      "metadata": {
        "id": "O9ktxISVU8Pr"
      },
      "execution_count": null,
      "outputs": []
    },
    {
      "cell_type": "markdown",
      "source": [
        "#**ARİTMETİK İŞLEMLER**"
      ],
      "metadata": {
        "id": "rksG-mURf0Q3"
      }
    },
    {
      "cell_type": "code",
      "source": [
        "import cv2\n",
        "from google.colab.patches import cv2_imshow\n",
        "import numpy as np\n",
        "\n",
        "x = np.uint8([230])\n",
        "y = np.uint8([60])\n",
        "\n",
        "print(cv2.add(x,y))\n",
        "print(x+y)\n"
      ],
      "metadata": {
        "id": "BiL8H7ROfzn1"
      },
      "execution_count": null,
      "outputs": []
    },
    {
      "cell_type": "code",
      "source": [
        "dim=(300,300)\n",
        "img1 = cv2.imread('opencv_logo.png')\n",
        "img1 = cv2.resize(img1,dim)\n",
        "img2 = cv2.imread('fener.png')\n",
        "img2 = cv2.resize(img2,dim)"
      ],
      "metadata": {
        "id": "IUe-Lk_WkAU_"
      },
      "execution_count": 99,
      "outputs": []
    },
    {
      "cell_type": "code",
      "source": [
        "join = cv2.addWeighted(img1,0.9,img2,0.9,0)\n",
        "cv2_imshow(join)"
      ],
      "metadata": {
        "colab": {
          "base_uri": "https://localhost:8080/",
          "height": 317
        },
        "id": "qKVQCiZZoNmX",
        "outputId": "84fe0cc4-0212-4bf5-c977-0927ace2546e"
      },
      "execution_count": 101,
      "outputs": [
        {
          "output_type": "display_data",
          "data": {
            "text/plain": [
              "<PIL.Image.Image image mode=RGB size=300x300 at 0x7FA23A9124C0>"
            ],
            "image/png": "[encoded data removed]"
          },
          "metadata": {}
        }
      ]
    }
  ]
}